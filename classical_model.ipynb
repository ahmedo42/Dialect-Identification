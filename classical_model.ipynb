{
 "cells": [
  {
   "cell_type": "code",
   "execution_count": null,
   "metadata": {},
   "outputs": [],
   "source": [
    "from sklearn.feature_extraction.text import TfidfVectorizer\n",
    "from sklearn.svm import LinearSVC\n",
    "from sklearn.metrics import f1_score\n",
    "from preprocessing import preprocess\n",
    "import pandas as pd\n",
    "\n",
    "RS = 17\n",
    "MAX_FEATURES = 50000\n",
    "train_df = pd.read_csv(\"train.csv\",lineterminator='\\n')\n",
    "val_df = pd.read_csv(\"validation.csv\",lineterminator='\\n')\n",
    "test_df = pd.read_csv(\"test.csv\",lineterminator='\\n')"
   ]
  },
  {
   "cell_type": "code",
   "execution_count": null,
   "metadata": {},
   "outputs": [],
   "source": [
    "train_df.loc[:, \"text\"] = train_df[\"text\"].apply(preprocess)\n",
    "val_df.loc[:, \"text\"] = val_df[\"text\"].apply(preprocess)\n",
    "test_df.loc[:, \"text\"] = test_df[\"text\"].apply(preprocess)"
   ]
  },
  {
   "cell_type": "code",
   "execution_count": null,
   "metadata": {},
   "outputs": [],
   "source": [
    "tf_idf = TfidfVectorizer(max_features=MAX_FEATURES, ngram_range=(3, 7),analyzer=\"char\")\n",
    "X_train, y_train = tf_idf.fit_transform(train_df.text), train_df.dialect\n",
    "X_val, y_val = tf_idf.transform(val_df.text), val_df.dialect\n",
    "X_test, y_test = tf_idf.transform(test_df.text), test_df.dialect"
   ]
  },
  {
   "cell_type": "code",
   "execution_count": null,
   "metadata": {},
   "outputs": [],
   "source": [
    "clf = LinearSVC(random_state=RS, verbose=1,C=0.5)\n",
    "clf.fit(X_train, y_train)"
   ]
  },
  {
   "cell_type": "code",
   "execution_count": null,
   "metadata": {},
   "outputs": [],
   "source": [
    "train_score = f1_score(y_train, clf.predict(X_val),average=\"macro\")\n",
    "validation_score = f1_score(y_val, clf.predict(X_val),average=\"macro\")\n",
    "test_score = f1_score(y_test, clf.predict(X_test),average=\"macro\")\n",
    "\n",
    "print(f\"Training Set F1 Score: {train_score}\")\n",
    "print(f\"Validation Set F1 Score: {validation_score}\")\n",
    "print(f\"Test Set F1 Score: {test_score}\")"
   ]
  },
  {
   "cell_type": "code",
   "execution_count": null,
   "metadata": {},
   "outputs": [],
   "source": [
    "from joblib import dump, load\n",
    "dump(clf, \"linear_svm.joblib\") "
   ]
  }
 ],
 "metadata": {
  "language_info": {
   "name": "python"
  },
  "orig_nbformat": 4
 },
 "nbformat": 4,
 "nbformat_minor": 2
}
